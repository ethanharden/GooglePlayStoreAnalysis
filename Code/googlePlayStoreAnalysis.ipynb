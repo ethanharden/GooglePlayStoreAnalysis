{
 "cells": [
  {
   "cell_type": "code",
   "execution_count": 80,
   "id": "7e67cf63",
   "metadata": {},
   "outputs": [],
   "source": [
    "# Suppress future warnings\n",
    "import warnings\n",
    "warnings.simplefilter(action='ignore', category=FutureWarning)\n",
    "\n",
    "# Data manipulation and analysis\n",
    "import pandas as pd\n",
    "import numpy as np\n",
    "\n",
    "# Statistical modeling\n",
    "import statsmodels.api as sm\n",
    "import statsmodels.formula.api as smf\n",
    "from scipy import stats\n",
    "from scipy.stats import chi2\n",
    "\n",
    "# Machine Learning - preprocessing and model selection\n",
    "from sklearn.model_selection import train_test_split, StratifiedKFold, GridSearchCV\n",
    "from sklearn.compose import ColumnTransformer\n",
    "from sklearn.preprocessing import StandardScaler, OneHotEncoder\n",
    "from sklearn.pipeline import Pipeline\n",
    "\n",
    "# Machine Learning - models\n",
    "from sklearn.linear_model import LogisticRegression\n",
    "\n",
    "# Machine Learning - metrics\n",
    "from sklearn.metrics import accuracy_score, recall_score, f1_score\n",
    "from sklearn.metrics import confusion_matrix, classification_report\n",
    "#from imblearn.metrics import geometric_mean_score  # Requires imbalanced-learn package\n",
    "\n",
    "# Visualization\n",
    "import matplotlib.pyplot as plt\n",
    "import seaborn as sns\n",
    "\n",
    "# Set random seed for reproducibility\n",
    "from numpy.random import seed"
   ]
  },
  {
   "cell_type": "code",
   "execution_count": 81,
   "id": "1f400859",
   "metadata": {},
   "outputs": [],
   "source": [
    "df = pd.read_csv('googleplaystore.csv')"
   ]
  },
  {
   "cell_type": "code",
   "execution_count": 82,
   "id": "4bf2fdd5",
   "metadata": {},
   "outputs": [],
   "source": [
    "df = df[df['Installs'] != 'free']"
   ]
  },
  {
   "cell_type": "code",
   "execution_count": 83,
   "id": "236852c7",
   "metadata": {},
   "outputs": [],
   "source": [
    "df['Reviews'] = pd.to_numeric(df['Reviews'],errors = 'coerce')"
   ]
  },
  {
   "cell_type": "code",
   "execution_count": 84,
   "id": "2a0c3cbb",
   "metadata": {},
   "outputs": [],
   "source": [
    "def install_map(value):\n",
    "    # Convert all entries to strings first\n",
    "    str_value = str(value)\n",
    "    # Remove '+' and commas, then convert to integer if possible\n",
    "    num_value = str_value.replace('+', '').replace(',', '')\n",
    "    try:\n",
    "        num_value = int(num_value)\n",
    "        return 1 if num_value >= 1000000 else 0\n",
    "    except ValueError:\n",
    "        if 'Free' in str_value:  # Handle 'Free' as a special case\n",
    "            return 0\n",
    "        return None  # Handle other non-numeric entries\n",
    "\n",
    "\n",
    "df['InstallCategory'] = df['Installs'].map(install_map)"
   ]
  },
  {
   "cell_type": "code",
   "execution_count": 85,
   "id": "389ff6fc",
   "metadata": {},
   "outputs": [],
   "source": [
    "df['Price'] = df['Price'].str.replace('$', '', regex=False)"
   ]
  },
  {
   "cell_type": "code",
   "execution_count": 86,
   "id": "647333b4",
   "metadata": {},
   "outputs": [],
   "source": [
    "df['Price'] = pd.to_numeric(df['Price'],errors = 'coerce')"
   ]
  },
  {
   "cell_type": "code",
   "execution_count": 87,
   "id": "cf33b890",
   "metadata": {},
   "outputs": [
    {
     "name": "stdout",
     "output_type": "stream",
     "text": [
      "<class 'pandas.core.frame.DataFrame'>\n",
      "RangeIndex: 10841 entries, 0 to 10840\n",
      "Data columns (total 14 columns):\n",
      " #   Column           Non-Null Count  Dtype  \n",
      "---  ------           --------------  -----  \n",
      " 0   App              10841 non-null  object \n",
      " 1   Category         10841 non-null  object \n",
      " 2   Rating           9367 non-null   float64\n",
      " 3   Reviews          10840 non-null  float64\n",
      " 4   Size             10841 non-null  object \n",
      " 5   Installs         10841 non-null  object \n",
      " 6   Type             10840 non-null  object \n",
      " 7   Price            10840 non-null  float64\n",
      " 8   Content Rating   10840 non-null  object \n",
      " 9   Genres           10841 non-null  object \n",
      " 10  Last Updated     10841 non-null  object \n",
      " 11  Current Ver      10833 non-null  object \n",
      " 12  Android Ver      10838 non-null  object \n",
      " 13  InstallCategory  10841 non-null  int64  \n",
      "dtypes: float64(3), int64(1), object(10)\n",
      "memory usage: 1.2+ MB\n"
     ]
    }
   ],
   "source": [
    "df.info()"
   ]
  },
  {
   "cell_type": "code",
   "execution_count": 88,
   "id": "bccf7dc4",
   "metadata": {},
   "outputs": [
    {
     "data": {
      "text/html": [
       "<div>\n",
       "<style scoped>\n",
       "    .dataframe tbody tr th:only-of-type {\n",
       "        vertical-align: middle;\n",
       "    }\n",
       "\n",
       "    .dataframe tbody tr th {\n",
       "        vertical-align: top;\n",
       "    }\n",
       "\n",
       "    .dataframe thead th {\n",
       "        text-align: right;\n",
       "    }\n",
       "</style>\n",
       "<table border=\"1\" class=\"dataframe\">\n",
       "  <thead>\n",
       "    <tr style=\"text-align: right;\">\n",
       "      <th></th>\n",
       "      <th>App</th>\n",
       "      <th>Category</th>\n",
       "      <th>Rating</th>\n",
       "      <th>Reviews</th>\n",
       "      <th>Size</th>\n",
       "      <th>Installs</th>\n",
       "      <th>Type</th>\n",
       "      <th>Price</th>\n",
       "      <th>Content Rating</th>\n",
       "      <th>Genres</th>\n",
       "      <th>Last Updated</th>\n",
       "      <th>Current Ver</th>\n",
       "      <th>Android Ver</th>\n",
       "      <th>InstallCategory</th>\n",
       "    </tr>\n",
       "  </thead>\n",
       "  <tbody>\n",
       "    <tr>\n",
       "      <th>0</th>\n",
       "      <td>Photo Editor &amp; Candy Camera &amp; Grid &amp; ScrapBook</td>\n",
       "      <td>ART_AND_DESIGN</td>\n",
       "      <td>4.1</td>\n",
       "      <td>159.0</td>\n",
       "      <td>19M</td>\n",
       "      <td>10,000+</td>\n",
       "      <td>Free</td>\n",
       "      <td>0.0</td>\n",
       "      <td>Everyone</td>\n",
       "      <td>Art &amp; Design</td>\n",
       "      <td>January 7, 2018</td>\n",
       "      <td>1.0.0</td>\n",
       "      <td>4.0.3 and up</td>\n",
       "      <td>0</td>\n",
       "    </tr>\n",
       "    <tr>\n",
       "      <th>1</th>\n",
       "      <td>Coloring book moana</td>\n",
       "      <td>ART_AND_DESIGN</td>\n",
       "      <td>3.9</td>\n",
       "      <td>967.0</td>\n",
       "      <td>14M</td>\n",
       "      <td>500,000+</td>\n",
       "      <td>Free</td>\n",
       "      <td>0.0</td>\n",
       "      <td>Everyone</td>\n",
       "      <td>Art &amp; Design;Pretend Play</td>\n",
       "      <td>January 15, 2018</td>\n",
       "      <td>2.0.0</td>\n",
       "      <td>4.0.3 and up</td>\n",
       "      <td>0</td>\n",
       "    </tr>\n",
       "    <tr>\n",
       "      <th>2</th>\n",
       "      <td>U Launcher Lite – FREE Live Cool Themes, Hide ...</td>\n",
       "      <td>ART_AND_DESIGN</td>\n",
       "      <td>4.7</td>\n",
       "      <td>87510.0</td>\n",
       "      <td>8.7M</td>\n",
       "      <td>5,000,000+</td>\n",
       "      <td>Free</td>\n",
       "      <td>0.0</td>\n",
       "      <td>Everyone</td>\n",
       "      <td>Art &amp; Design</td>\n",
       "      <td>August 1, 2018</td>\n",
       "      <td>1.2.4</td>\n",
       "      <td>4.0.3 and up</td>\n",
       "      <td>1</td>\n",
       "    </tr>\n",
       "    <tr>\n",
       "      <th>3</th>\n",
       "      <td>Sketch - Draw &amp; Paint</td>\n",
       "      <td>ART_AND_DESIGN</td>\n",
       "      <td>4.5</td>\n",
       "      <td>215644.0</td>\n",
       "      <td>25M</td>\n",
       "      <td>50,000,000+</td>\n",
       "      <td>Free</td>\n",
       "      <td>0.0</td>\n",
       "      <td>Teen</td>\n",
       "      <td>Art &amp; Design</td>\n",
       "      <td>June 8, 2018</td>\n",
       "      <td>Varies with device</td>\n",
       "      <td>4.2 and up</td>\n",
       "      <td>1</td>\n",
       "    </tr>\n",
       "    <tr>\n",
       "      <th>4</th>\n",
       "      <td>Pixel Draw - Number Art Coloring Book</td>\n",
       "      <td>ART_AND_DESIGN</td>\n",
       "      <td>4.3</td>\n",
       "      <td>967.0</td>\n",
       "      <td>2.8M</td>\n",
       "      <td>100,000+</td>\n",
       "      <td>Free</td>\n",
       "      <td>0.0</td>\n",
       "      <td>Everyone</td>\n",
       "      <td>Art &amp; Design;Creativity</td>\n",
       "      <td>June 20, 2018</td>\n",
       "      <td>1.1</td>\n",
       "      <td>4.4 and up</td>\n",
       "      <td>0</td>\n",
       "    </tr>\n",
       "  </tbody>\n",
       "</table>\n",
       "</div>"
      ],
      "text/plain": [
       "                                                 App        Category  Rating  \\\n",
       "0     Photo Editor & Candy Camera & Grid & ScrapBook  ART_AND_DESIGN     4.1   \n",
       "1                                Coloring book moana  ART_AND_DESIGN     3.9   \n",
       "2  U Launcher Lite – FREE Live Cool Themes, Hide ...  ART_AND_DESIGN     4.7   \n",
       "3                              Sketch - Draw & Paint  ART_AND_DESIGN     4.5   \n",
       "4              Pixel Draw - Number Art Coloring Book  ART_AND_DESIGN     4.3   \n",
       "\n",
       "    Reviews  Size     Installs  Type  Price Content Rating  \\\n",
       "0     159.0   19M      10,000+  Free    0.0       Everyone   \n",
       "1     967.0   14M     500,000+  Free    0.0       Everyone   \n",
       "2   87510.0  8.7M   5,000,000+  Free    0.0       Everyone   \n",
       "3  215644.0   25M  50,000,000+  Free    0.0           Teen   \n",
       "4     967.0  2.8M     100,000+  Free    0.0       Everyone   \n",
       "\n",
       "                      Genres      Last Updated         Current Ver  \\\n",
       "0               Art & Design   January 7, 2018               1.0.0   \n",
       "1  Art & Design;Pretend Play  January 15, 2018               2.0.0   \n",
       "2               Art & Design    August 1, 2018               1.2.4   \n",
       "3               Art & Design      June 8, 2018  Varies with device   \n",
       "4    Art & Design;Creativity     June 20, 2018                 1.1   \n",
       "\n",
       "    Android Ver  InstallCategory  \n",
       "0  4.0.3 and up                0  \n",
       "1  4.0.3 and up                0  \n",
       "2  4.0.3 and up                1  \n",
       "3    4.2 and up                1  \n",
       "4    4.4 and up                0  "
      ]
     },
     "execution_count": 88,
     "metadata": {},
     "output_type": "execute_result"
    }
   ],
   "source": [
    "df.head()"
   ]
  },
  {
   "cell_type": "code",
   "execution_count": 89,
   "id": "37b7c4ed",
   "metadata": {},
   "outputs": [
    {
     "data": {
      "text/plain": [
       "InstallCategory\n",
       "0    6430\n",
       "1    4411\n",
       "Name: count, dtype: int64"
      ]
     },
     "execution_count": 89,
     "metadata": {},
     "output_type": "execute_result"
    }
   ],
   "source": [
    "df.InstallCategory.value_counts()"
   ]
  },
  {
   "cell_type": "code",
   "execution_count": 90,
   "id": "e22d3074",
   "metadata": {},
   "outputs": [
    {
     "data": {
      "text/plain": [
       "App                   0\n",
       "Category              0\n",
       "Rating             1474\n",
       "Reviews               1\n",
       "Size                  0\n",
       "Installs              0\n",
       "Type                  1\n",
       "Price                 1\n",
       "Content Rating        1\n",
       "Genres                0\n",
       "Last Updated          0\n",
       "Current Ver           8\n",
       "Android Ver           3\n",
       "InstallCategory       0\n",
       "dtype: int64"
      ]
     },
     "execution_count": 90,
     "metadata": {},
     "output_type": "execute_result"
    }
   ],
   "source": [
    "df.isnull().sum()"
   ]
  },
  {
   "cell_type": "code",
   "execution_count": 91,
   "id": "c2062e61",
   "metadata": {},
   "outputs": [],
   "source": [
    "df = df.dropna(subset=['Rating'])\n",
    "df = df.dropna(subset=['Reviews'])\n",
    "df = df.dropna(subset=['Price'])"
   ]
  },
  {
   "cell_type": "code",
   "execution_count": 92,
   "id": "5fa0d8b2",
   "metadata": {},
   "outputs": [
    {
     "data": {
      "text/plain": [
       "App                0\n",
       "Category           0\n",
       "Rating             0\n",
       "Reviews            0\n",
       "Size               0\n",
       "Installs           0\n",
       "Type               0\n",
       "Price              0\n",
       "Content Rating     0\n",
       "Genres             0\n",
       "Last Updated       0\n",
       "Current Ver        4\n",
       "Android Ver        2\n",
       "InstallCategory    0\n",
       "dtype: int64"
      ]
     },
     "execution_count": 92,
     "metadata": {},
     "output_type": "execute_result"
    }
   ],
   "source": [
    "df.isnull().sum()"
   ]
  },
  {
   "cell_type": "code",
   "execution_count": 93,
   "id": "e631a5fe",
   "metadata": {},
   "outputs": [],
   "source": [
    "dfclean = df[['Rating', 'Reviews','Price', 'InstallCategory']]"
   ]
  },
  {
   "cell_type": "code",
   "execution_count": 94,
   "id": "56d1af2e",
   "metadata": {},
   "outputs": [
    {
     "name": "stdout",
     "output_type": "stream",
     "text": [
      "<class 'pandas.core.frame.DataFrame'>\n",
      "Index: 9366 entries, 0 to 10840\n",
      "Data columns (total 4 columns):\n",
      " #   Column           Non-Null Count  Dtype  \n",
      "---  ------           --------------  -----  \n",
      " 0   Rating           9366 non-null   float64\n",
      " 1   Reviews          9366 non-null   float64\n",
      " 2   Price            9366 non-null   float64\n",
      " 3   InstallCategory  9366 non-null   int64  \n",
      "dtypes: float64(3), int64(1)\n",
      "memory usage: 365.9 KB\n"
     ]
    }
   ],
   "source": [
    "dfclean.info()"
   ]
  },
  {
   "cell_type": "code",
   "execution_count": 95,
   "id": "a5d1cb91",
   "metadata": {},
   "outputs": [
    {
     "data": {
      "text/plain": [
       "InstallCategory\n",
       "0    4957\n",
       "1    4409\n",
       "Name: count, dtype: int64"
      ]
     },
     "execution_count": 95,
     "metadata": {},
     "output_type": "execute_result"
    }
   ],
   "source": [
    "dfclean.InstallCategory.value_counts()"
   ]
  },
  {
   "cell_type": "code",
   "execution_count": 96,
   "id": "76a48d3a",
   "metadata": {},
   "outputs": [
    {
     "data": {
      "text/plain": [
       "<Axes: ylabel='InstallCategory'>"
      ]
     },
     "execution_count": 96,
     "metadata": {},
     "output_type": "execute_result"
    },
    {
     "data": {
      "image/png": "[encoded data removed]",
      "text/plain": [
       "<Figure size 640x480 with 1 Axes>"
      ]
     },
     "metadata": {},
     "output_type": "display_data"
    }
   ],
   "source": [
    "dfclean.InstallCategory.value_counts().sort_values().plot(kind = 'barh',color='orange')\n"
   ]
  },
  {
   "cell_type": "code",
   "execution_count": 97,
   "id": "aa8b91b3",
   "metadata": {},
   "outputs": [
    {
     "data": {
      "text/plain": [
       "<seaborn.axisgrid.PairGrid at 0x7630c5876380>"
      ]
     },
     "execution_count": 97,
     "metadata": {},
     "output_type": "execute_result"
    },
    {
     "data": {
      "image/png": "[encoded data removed]",
      "text/plain": [
       "<Figure size 866.611x750 with 12 Axes>"
      ]
     },
     "metadata": {},
     "output_type": "display_data"
    }
   ],
   "source": [
    "sns.pairplot(dfclean[['InstallCategory', 'Rating', 'Reviews', 'Price']], hue='InstallCategory')"
   ]
  },
  {
   "cell_type": "code",
   "execution_count": 98,
   "id": "857487c5",
   "metadata": {},
   "outputs": [
    {
     "name": "stdout",
     "output_type": "stream",
     "text": [
      "Train Accuracy: 93.62%\n",
      "Test Accuracy: 94.56%\n",
      "Train Error Rate: 6.38%\n",
      "Test Error Rate: 5.44%\n",
      "Test F1 Score: 0.94\n",
      "              precision    recall  f1-score   support\n",
      "\n",
      "           0       0.92      0.98      0.95       992\n",
      "           1       0.97      0.91      0.94       882\n",
      "\n",
      "    accuracy                           0.95      1874\n",
      "   macro avg       0.95      0.94      0.95      1874\n",
      "weighted avg       0.95      0.95      0.95      1874\n",
      "\n"
     ]
    }
   ],
   "source": [
    "seed(42)  # You can choose any number as a seed value.\n",
    "\n",
    "\n",
    "\n",
    "default_data = dfclean\n",
    "\n",
    "# Splitting the dataset into features and target variable\n",
    "X = default_data.drop('InstallCategory', axis=1)\n",
    "y = default_data['InstallCategory']\n",
    "\n",
    "# Splitting the data into training and test sets\n",
    "X_train, X_test, y_train, y_test = train_test_split(X, y, test_size=0.2, random_state=42, stratify=y)\n",
    "\n",
    "# Defining preprocessing for numerical and categorical columns\n",
    "numeric_features = ['Rating', 'Reviews','Price']\n",
    "\n",
    "\n",
    "numeric_transformer = StandardScaler()\n",
    "\n",
    "# Creating the preprocessor\n",
    "preprocessor = ColumnTransformer(\n",
    "    transformers=[\n",
    "        ('num', numeric_transformer, numeric_features),\n",
    "    ])\n",
    "\n",
    "# Creating the pipeline\n",
    "pipeline = Pipeline([\n",
    "    ('preprocessor', preprocessor),\n",
    "    ('classifier', LogisticRegression(random_state=42, max_iter=1000))\n",
    "])\n",
    "\n",
    "# Setting up the parameter grid for hyperparameter tuning\n",
    "param_grid = {\n",
    "    'classifier__C': np.logspace(-4, 4, 20),\n",
    "    'classifier__solver': ['lbfgs', 'liblinear']\n",
    "}\n",
    "\n",
    "# Setting up stratified 5-fold cross-validation\n",
    "cv = StratifiedKFold(n_splits=5)\n",
    "grid_search = GridSearchCV(pipeline, param_grid, cv=cv, scoring='accuracy', n_jobs=-1)\n",
    "\n",
    "# Fitting the grid search to the training data\n",
    "grid_search.fit(X_train, y_train)\n",
    "\n",
    "# Extracting the best parameters and score\n",
    "best_params = grid_search.best_params_\n",
    "best_score = grid_search.best_score_\n",
    "\n",
    "# Evaluating the model on the test data\n",
    "best_model = grid_search.best_estimator_\n",
    "y_pred_test = best_model.predict(X_test)\n",
    "y_pred_train = best_model.predict(X_train)\n",
    "\n",
    "# Calculating metrics\n",
    "accuracy_train = accuracy_score(y_train, y_pred_train)\n",
    "accuracy_test = accuracy_score(y_test, y_pred_test)\n",
    "error_rate_train = 1 - accuracy_train\n",
    "error_rate_test = 1 - accuracy_test\n",
    "f1_score_test = f1_score(y_test, y_pred_test, pos_label=1)  # Assuming 'Yes' is the positive class\n",
    "\n",
    "# Confusion Matrix for Test Data\n",
    "conf_matrix = confusion_matrix(y_test, y_pred_test)\n",
    "\n",
    "# Print metrics\n",
    "print(f\"Train Accuracy: {accuracy_train*100:.2f}%\")\n",
    "print(f\"Test Accuracy: {accuracy_test*100:.2f}%\")\n",
    "print(f\"Train Error Rate: {error_rate_train*100:.2f}%\")\n",
    "print(f\"Test Error Rate: {error_rate_test*100:.2f}%\")\n",
    "print(f\"Test F1 Score: {f1_score_test:.2f}\")\n",
    "\n",
    "# Detailed classification report\n",
    "print(classification_report(y_test, y_pred_test))\n"
   ]
  },
  {
   "cell_type": "code",
   "execution_count": 99,
   "id": "7c770758",
   "metadata": {},
   "outputs": [
    {
     "data": {
      "text/plain": [
       "array([[969,  23],\n",
       "       [ 79, 803]])"
      ]
     },
     "execution_count": 99,
     "metadata": {},
     "output_type": "execute_result"
    }
   ],
   "source": [
    "conf_matrix"
   ]
  }
 ],
 "metadata": {
  "kernelspec": {
   "display_name": "Python 3 (ipykernel)",
   "language": "python",
   "name": "python3"
  },
  "language_info": {
   "codemirror_mode": {
    "name": "ipython",
    "version": 3
   },
   "file_extension": ".py",
   "mimetype": "text/x-python",
   "name": "python",
   "nbconvert_exporter": "python",
   "pygments_lexer": "ipython3",
   "version": "3.10.12"
  }
 },
 "nbformat": 4,
 "nbformat_minor": 5
}
